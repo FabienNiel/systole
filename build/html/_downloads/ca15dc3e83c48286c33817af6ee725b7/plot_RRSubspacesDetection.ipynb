{
  "cells": [
    {
      "cell_type": "code",
      "execution_count": null,
      "metadata": {
        "collapsed": false
      },
      "outputs": [],
      "source": [
        "%matplotlib inline"
      ]
    },
    {
      "cell_type": "markdown",
      "metadata": {},
      "source": [
        "\nOutliers and ectobeats detection\n================================\n\nThis example shows how to detect ectobeat extra, missed and ectobeats from RR\ntime series using the method proposed by Lipponen & Tarvainen (2019) [#]_.\n"
      ]
    },
    {
      "cell_type": "code",
      "execution_count": null,
      "metadata": {
        "collapsed": false
      },
      "outputs": [],
      "source": [
        "# Author: Nicolas Legrand <nicolas.legrand@cfin.au.dk>\n# Licence: GPL v3"
      ]
    },
    {
      "cell_type": "code",
      "execution_count": null,
      "metadata": {
        "collapsed": false
      },
      "outputs": [],
      "source": [
        "from systole.detection import rr_outliers\nfrom systole.plotting import plot_subspaces, plot_hr\nfrom systole import import_rr"
      ]
    },
    {
      "cell_type": "markdown",
      "metadata": {},
      "source": [
        "Simulate RR time serie\n----------------------\n\n"
      ]
    },
    {
      "cell_type": "code",
      "execution_count": null,
      "metadata": {
        "collapsed": false
      },
      "outputs": [],
      "source": [
        "rr = import_rr().rr[:100]"
      ]
    },
    {
      "cell_type": "markdown",
      "metadata": {},
      "source": [
        "Add artefacts\n-------------\n\n"
      ]
    },
    {
      "cell_type": "code",
      "execution_count": null,
      "metadata": {
        "collapsed": false
      },
      "outputs": [],
      "source": [
        "# Add missed beat\nrr[20] = 1600\n\n# Add extra beat\nrr[40] = 400\n\n# Add ectobeat (type 1)\nrr[60] = 1100\nrr[61] = 500\n\n# Add ectobeat (type 2)\nrr[80] = 500\nrr[81] = 1100"
      ]
    },
    {
      "cell_type": "markdown",
      "metadata": {},
      "source": [
        "Artefact detection\n------------------\nYou can visualize the two main subspaces and spot outliers.\nHere we can see that two intervals have been labelled as probable ectobeats\n(left pannel), and a total of 6 datapoints are considered as outliers, being\ntoo long or too short (right pannel).\n\n"
      ]
    },
    {
      "cell_type": "code",
      "execution_count": null,
      "metadata": {
        "collapsed": false
      },
      "outputs": [],
      "source": [
        "plot_subspaces(rr)"
      ]
    },
    {
      "cell_type": "markdown",
      "metadata": {},
      "source": [
        "Plotting\n--------\nWe can then plot back the labelled outliers in the RR interval time course\n\n"
      ]
    },
    {
      "cell_type": "code",
      "execution_count": null,
      "metadata": {
        "collapsed": false
      },
      "outputs": [],
      "source": [
        "ectobeats, outliers = rr_outliers(rr)\nplot_hr(rr.values, kind='linear', outliers=(ectobeats | outliers))"
      ]
    },
    {
      "cell_type": "markdown",
      "metadata": {},
      "source": [
        "References\n----------\n.. [#] Lipponen, J. A., & Tarvainen, M. P. (2019). A robust algorithm for\n  heart rate variability time series artefact correction using novel\n  beat classification. Journal of Medical Engineering & Technology,\n  43(3), 173\u2013181. https://doi.org/10.1080/03091902.2019.1640306\n\n"
      ]
    }
  ],
  "metadata": {
    "kernelspec": {
      "display_name": "Python 3",
      "language": "python",
      "name": "python3"
    },
    "language_info": {
      "codemirror_mode": {
        "name": "ipython",
        "version": 3
      },
      "file_extension": ".py",
      "mimetype": "text/x-python",
      "name": "python",
      "nbconvert_exporter": "python",
      "pygments_lexer": "ipython3",
      "version": "3.7.3"
    }
  },
  "nbformat": 4,
  "nbformat_minor": 0
}