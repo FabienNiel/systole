{
 "cells": [
  {
   "cell_type": "code",
   "execution_count": 1,
   "metadata": {},
   "outputs": [],
   "source": [
    "import numpy as np\n",
    "import pandas as pd\n",
    "from systole.detection import oxi_peaks\n",
    "from systole.utils import heart_rate\n",
    "from systole.hrv_time import nnX, pnnX, rmssd, time_domain\n",
    "from systole.hrv_frequency import hrv_frequency\n",
    "from scipy.signal import find_peaks"
   ]
  },
  {
   "cell_type": "code",
   "execution_count": 2,
   "metadata": {},
   "outputs": [],
   "source": [
    "# Load data\n",
    "df = pd.read_csv('rr.txt')"
   ]
  },
  {
   "cell_type": "markdown",
   "metadata": {},
   "source": [
    "# Time domain"
   ]
  },
  {
   "cell_type": "code",
   "execution_count": 3,
   "metadata": {},
   "outputs": [
    {
     "data": {
      "text/plain": [
       "64"
      ]
     },
     "execution_count": 3,
     "metadata": {},
     "output_type": "execute_result"
    }
   ],
   "source": [
    "nnX(df.rr)"
   ]
  },
  {
   "cell_type": "code",
   "execution_count": 4,
   "metadata": {},
   "outputs": [
    {
     "data": {
      "text/plain": [
       "26.229508196721312"
      ]
     },
     "execution_count": 4,
     "metadata": {},
     "output_type": "execute_result"
    }
   ],
   "source": [
    "pnnX(df.rr)"
   ]
  },
  {
   "cell_type": "markdown",
   "metadata": {},
   "source": [
    "### Root mean square of the successisve differences"
   ]
  },
  {
   "cell_type": "code",
   "execution_count": 5,
   "metadata": {},
   "outputs": [
    {
     "data": {
      "text/plain": [
       "45.5466693541162"
      ]
     },
     "execution_count": 5,
     "metadata": {},
     "output_type": "execute_result"
    }
   ],
   "source": [
    "rmssd(df.rr)"
   ]
  },
  {
   "cell_type": "code",
   "execution_count": 6,
   "metadata": {},
   "outputs": [
    {
     "data": {
      "text/html": [
       "<div>\n",
       "<style scoped>\n",
       "    .dataframe tbody tr th:only-of-type {\n",
       "        vertical-align: middle;\n",
       "    }\n",
       "\n",
       "    .dataframe tbody tr th {\n",
       "        vertical-align: top;\n",
       "    }\n",
       "\n",
       "    .dataframe thead th {\n",
       "        text-align: right;\n",
       "    }\n",
       "</style>\n",
       "<table border=\"1\" class=\"dataframe\">\n",
       "  <thead>\n",
       "    <tr style=\"text-align: right;\">\n",
       "      <th></th>\n",
       "      <th>Value</th>\n",
       "      <th>Metric</th>\n",
       "    </tr>\n",
       "  </thead>\n",
       "  <tbody>\n",
       "    <tr>\n",
       "      <th>0</th>\n",
       "      <td>883.00</td>\n",
       "      <td>MeanRR</td>\n",
       "    </tr>\n",
       "    <tr>\n",
       "      <th>1</th>\n",
       "      <td>68.58</td>\n",
       "      <td>MeanBPM</td>\n",
       "    </tr>\n",
       "    <tr>\n",
       "      <th>2</th>\n",
       "      <td>886.67</td>\n",
       "      <td>MedianRR</td>\n",
       "    </tr>\n",
       "    <tr>\n",
       "      <th>3</th>\n",
       "      <td>67.67</td>\n",
       "      <td>MedianBPM</td>\n",
       "    </tr>\n",
       "    <tr>\n",
       "      <th>4</th>\n",
       "      <td>676.00</td>\n",
       "      <td>MinRR</td>\n",
       "    </tr>\n",
       "    <tr>\n",
       "      <th>5</th>\n",
       "      <td>53.70</td>\n",
       "      <td>MinBPM</td>\n",
       "    </tr>\n",
       "    <tr>\n",
       "      <th>6</th>\n",
       "      <td>1117.33</td>\n",
       "      <td>MaxRR</td>\n",
       "    </tr>\n",
       "    <tr>\n",
       "      <th>7</th>\n",
       "      <td>88.76</td>\n",
       "      <td>MaxBPM</td>\n",
       "    </tr>\n",
       "    <tr>\n",
       "      <th>8</th>\n",
       "      <td>84.69</td>\n",
       "      <td>SDNN</td>\n",
       "    </tr>\n",
       "    <tr>\n",
       "      <th>9</th>\n",
       "      <td>45.55</td>\n",
       "      <td>RMSSD</td>\n",
       "    </tr>\n",
       "    <tr>\n",
       "      <th>10</th>\n",
       "      <td>64.00</td>\n",
       "      <td>nn50</td>\n",
       "    </tr>\n",
       "    <tr>\n",
       "      <th>11</th>\n",
       "      <td>26.23</td>\n",
       "      <td>pnn50</td>\n",
       "    </tr>\n",
       "  </tbody>\n",
       "</table>\n",
       "</div>"
      ],
      "text/plain": [
       "      Value     Metric\n",
       "0    883.00     MeanRR\n",
       "1     68.58    MeanBPM\n",
       "2    886.67   MedianRR\n",
       "3     67.67  MedianBPM\n",
       "4    676.00      MinRR\n",
       "5     53.70     MinBPM\n",
       "6   1117.33      MaxRR\n",
       "7     88.76     MaxBPM\n",
       "8     84.69       SDNN\n",
       "9     45.55      RMSSD\n",
       "10    64.00       nn50\n",
       "11    26.23      pnn50"
      ]
     },
     "execution_count": 6,
     "metadata": {},
     "output_type": "execute_result"
    }
   ],
   "source": [
    "time_domain(df.rr)"
   ]
  },
  {
   "cell_type": "markdown",
   "metadata": {},
   "source": [
    "# Frequency domain"
   ]
  },
  {
   "cell_type": "code",
   "execution_count": 7,
   "metadata": {},
   "outputs": [
    {
     "name": "stderr",
     "output_type": "stream",
     "text": [
      "C:\\ProgramData\\Anaconda3\\lib\\site-packages\\scipy\\signal\\spectral.py:1969: UserWarning: nperseg = 256000 is greater than input length  = 215402, using nperseg = 215402\n",
      "  .format(nperseg, input_length))\n"
     ]
    },
    {
     "data": {
      "text/plain": [
       "<matplotlib.axes._subplots.AxesSubplot at 0x1fb9d3fcf60>"
      ]
     },
     "execution_count": 7,
     "metadata": {},
     "output_type": "execute_result"
    },
    {
     "data": {
      "image/png": "[encoded data removed]",
      "text/plain": [
       "<Figure size 576x288 with 1 Axes>"
      ]
     },
     "metadata": {
      "needs_background": "light"
     },
     "output_type": "display_data"
    }
   ],
   "source": [
    "hrv_frequency(df.rr.values)"
   ]
  },
  {
   "cell_type": "code",
   "execution_count": 101,
   "metadata": {},
   "outputs": [
    {
     "data": {
      "text/plain": [
       "2008.0"
      ]
     },
     "execution_count": 101,
     "metadata": {},
     "output_type": "execute_result"
    }
   ],
   "source": [
    "time[1]"
   ]
  },
  {
   "cell_type": "code",
   "execution_count": 102,
   "metadata": {},
   "outputs": [],
   "source": [
    "from scipy.signal import welch\n",
    "import numpy as np\n",
    "from scipy import interpolate\n",
    "\n",
    "sfreq=5\n",
    "x = df.rr.values\n",
    "time = np.cumsum(x)\n",
    "f = interpolate.interp1d(time, x, kind='cubic')\n",
    "new_time = np.arange(time[0], time[-1], 200)\n",
    "x = f(new_time)\n",
    "# Define window length\n",
    "nperseg = 256 * sfreq\n",
    "\n",
    "# Compute Power Spectral Density\n",
    "freq, psd = welch(x=x, fs=sfreq, nperseg=nperseg, nfft=nperseg)\n",
    "\n",
    "psd = psd/1000000"
   ]
  },
  {
   "cell_type": "code",
   "execution_count": 103,
   "metadata": {},
   "outputs": [
    {
     "data": {
      "text/plain": [
       "[<matplotlib.lines.Line2D at 0x1fba392ad68>]"
      ]
     },
     "execution_count": 103,
     "metadata": {},
     "output_type": "execute_result"
    },
    {
     "data": {
      "image/png": "[encoded data removed]",
      "text/plain": [
       "<Figure size 432x288 with 1 Axes>"
      ]
     },
     "metadata": {
      "needs_background": "light"
     },
     "output_type": "display_data"
    }
   ],
   "source": [
    "plt.plot(x)"
   ]
  },
  {
   "cell_type": "code",
   "execution_count": 104,
   "metadata": {},
   "outputs": [],
   "source": [
    "fbands = {'vlf': ['Very low frequency', (0.003, 0.04), 'b'],\n",
    "                  'lf':\t['Low frequency', (0.04, 0.15), 'g'],\n",
    "                  'hf':\t['High frequency', (0.15, 0.4), 'r']}"
   ]
  },
  {
   "cell_type": "code",
   "execution_count": 121,
   "metadata": {},
   "outputs": [
    {
     "data": {
      "text/html": [
       "<div>\n",
       "<style scoped>\n",
       "    .dataframe tbody tr th:only-of-type {\n",
       "        vertical-align: middle;\n",
       "    }\n",
       "\n",
       "    .dataframe tbody tr th {\n",
       "        vertical-align: top;\n",
       "    }\n",
       "\n",
       "    .dataframe thead th {\n",
       "        text-align: right;\n",
       "    }\n",
       "</style>\n",
       "<table border=\"1\" class=\"dataframe\">\n",
       "  <thead>\n",
       "    <tr style=\"text-align: right;\">\n",
       "      <th></th>\n",
       "      <th>Metric</th>\n",
       "      <th>Values</th>\n",
       "    </tr>\n",
       "  </thead>\n",
       "  <tbody>\n",
       "    <tr>\n",
       "      <th>0</th>\n",
       "      <td>vlf_peak</td>\n",
       "      <td>0.031200</td>\n",
       "    </tr>\n",
       "    <tr>\n",
       "      <th>1</th>\n",
       "      <td>vlf_power</td>\n",
       "      <td>4323.905884</td>\n",
       "    </tr>\n",
       "    <tr>\n",
       "      <th>2</th>\n",
       "      <td>lf_peak</td>\n",
       "      <td>0.066400</td>\n",
       "    </tr>\n",
       "    <tr>\n",
       "      <th>3</th>\n",
       "      <td>lf_power</td>\n",
       "      <td>2332.268389</td>\n",
       "    </tr>\n",
       "    <tr>\n",
       "      <th>4</th>\n",
       "      <td>hf_peak</td>\n",
       "      <td>0.312500</td>\n",
       "    </tr>\n",
       "    <tr>\n",
       "      <th>5</th>\n",
       "      <td>hf_power</td>\n",
       "      <td>555.182609</td>\n",
       "    </tr>\n",
       "    <tr>\n",
       "      <th>6</th>\n",
       "      <td>pover_vlf_per</td>\n",
       "      <td>59.959671</td>\n",
       "    </tr>\n",
       "    <tr>\n",
       "      <th>7</th>\n",
       "      <td>pover_lf_per</td>\n",
       "      <td>32.341603</td>\n",
       "    </tr>\n",
       "    <tr>\n",
       "      <th>8</th>\n",
       "      <td>pover_hf_per</td>\n",
       "      <td>7.698726</td>\n",
       "    </tr>\n",
       "    <tr>\n",
       "      <th>9</th>\n",
       "      <td>pover_lf_nu</td>\n",
       "      <td>0.192274</td>\n",
       "    </tr>\n",
       "    <tr>\n",
       "      <th>10</th>\n",
       "      <td>pover_hf_nu</td>\n",
       "      <td>0.807726</td>\n",
       "    </tr>\n",
       "  </tbody>\n",
       "</table>\n",
       "</div>"
      ],
      "text/plain": [
       "           Metric       Values\n",
       "0        vlf_peak     0.031200\n",
       "1       vlf_power  4323.905884\n",
       "2         lf_peak     0.066400\n",
       "3        lf_power  2332.268389\n",
       "4         hf_peak     0.312500\n",
       "5        hf_power   555.182609\n",
       "6   pover_vlf_per    59.959671\n",
       "7    pover_lf_per    32.341603\n",
       "8    pover_hf_per     7.698726\n",
       "9     pover_lf_nu     0.192274\n",
       "10    pover_hf_nu     0.807726"
      ]
     },
     "execution_count": 121,
     "metadata": {},
     "output_type": "execute_result"
    }
   ],
   "source": [
    "freq_res = freq[1] - freq[0]\n",
    "\n",
    "stats = pd.DataFrame([])\n",
    "for band in fbands:\n",
    "    this_psd = psd[(freq >= fbands[band][1][0]) & (freq < fbands[band][1][1])]\n",
    "    this_freq = freq[(freq >= fbands[band][1][0]) & (freq < fbands[band][1][1])]\n",
    "    \n",
    "    # Peaks (Hz)\n",
    "    peak = round(this_freq[np.argmax(this_psd)], 4)\n",
    "    stats = stats.append({'Values': peak, 'Metric': band+'_peak'}, ignore_index=True)\n",
    "\n",
    "    # Power (ms**2)\n",
    "    power = np.trapz(x=this_freq, y=this_psd) * 1000000\n",
    "    stats = stats.append({'Values': power, 'Metric': band+'_power'}, ignore_index=True)\n",
    "\n",
    "hf = stats.Values[stats.Metric == 'hf_power'].values[0]\n",
    "lf = stats.Values[stats.Metric == 'lf_power'].values[0]\n",
    "vlf = stats.Values[stats.Metric == 'vlf_power'].values[0]\n",
    "\n",
    "# Power (%)\n",
    "power_per_vlf = vlf/(vlf+lf+hf)*100\n",
    "power_per_lf = lf/(vlf+lf+hf)*100\n",
    "power_per_hf = hf/(vlf+lf+hf)*100\n",
    "\n",
    "# Power (n.u.)\n",
    "power_nu_hf = hf/(hf + lf)\n",
    "power_nu_lf = lf/(hf + lf)\n",
    "\n",
    "values = [power_per_vlf, power_per_lf, power_per_hf, power_nu_hf, power_nu_lf]\n",
    "metrics = ['pover_vlf_per', 'pover_lf_per', 'pover_hf_per', 'pover_lf_nu', 'pover_hf_nu']\n",
    "\n",
    "stats = stats.append(pd.DataFrame({'Values': values, 'Metric': metrics}), ignore_index=True, sort=False)\n",
    "\n",
    "stats"
   ]
  },
  {
   "cell_type": "code",
   "execution_count": 124,
   "metadata": {},
   "outputs": [
    {
     "data": {
      "text/plain": [
       "(32.27157760733894, 115.34089300554412)"
      ]
     },
     "execution_count": 124,
     "metadata": {},
     "output_type": "execute_result"
    }
   ],
   "source": [
    "diff_rri = np.diff(df.rr.values)\n",
    "sd1 = np.sqrt(np.std(diff_rri, ddof=1) ** 2 * 0.5)\n",
    "sd2 = np.sqrt(2 * np.std(df.rr.values, ddof=1) ** 2 - 0.5 * np.std(diff_rri,\n",
    "                                                          ddof=1) ** 2)\n",
    "sd1, sd2"
   ]
  },
  {
   "cell_type": "code",
   "execution_count": 99,
   "metadata": {},
   "outputs": [
    {
     "data": {
      "text/plain": [
       "(0, 0.4)"
      ]
     },
     "execution_count": 99,
     "metadata": {},
     "output_type": "execute_result"
    },
    {
     "data": {
      "image/png": "[encoded data removed]",
      "text/plain": [
       "<Figure size 432x288 with 1 Axes>"
      ]
     },
     "metadata": {
      "needs_background": "light"
     },
     "output_type": "display_data"
    }
   ],
   "source": [
    "import matplotlib.pyplot as plt\n",
    "plt.plot(freq, psd)\n",
    "plt.xlim(0, 0.4)"
   ]
  },
  {
   "cell_type": "markdown",
   "metadata": {},
   "source": [
    "## Pointcarre plot"
   ]
  },
  {
   "cell_type": "code",
   "execution_count": 37,
   "metadata": {},
   "outputs": [
    {
     "data": {
      "text/plain": [
       "Text(0, 0.5, '$RR_i+1 (ms)$')"
      ]
     },
     "execution_count": 37,
     "metadata": {},
     "output_type": "execute_result"
    },
    {
     "data": {
      "image/png": "[encoded data removed]",
      "text/plain": [
       "<Figure size 432x288 with 1 Axes>"
      ]
     },
     "metadata": {
      "needs_background": "light"
     },
     "output_type": "display_data"
    }
   ],
   "source": [
    "import matplotlib.pyplot as plt\n",
    "plt.plot(rr[:-1], rr[1:], 'ro')\n",
    "plt.xlabel(r'$RR_i (ms)$')\n",
    "plt.ylabel(r'$RR_i+1 (ms)$')"
   ]
  },
  {
   "cell_type": "code",
   "execution_count": 40,
   "metadata": {},
   "outputs": [
    {
     "data": {
      "text/plain": [
       "(245,)"
      ]
     },
     "execution_count": 40,
     "metadata": {},
     "output_type": "execute_result"
    }
   ],
   "source": [
    "df.rr.values.shape"
   ]
  },
  {
   "cell_type": "code",
   "execution_count": 38,
   "metadata": {},
   "outputs": [
    {
     "ename": "TypeError",
     "evalue": "'NoneType' object is not subscriptable",
     "output_type": "error",
     "traceback": [
      "\u001b[1;31m---------------------------------------------------------------------------\u001b[0m",
      "\u001b[1;31mTypeError\u001b[0m                                 Traceback (most recent call last)",
      "\u001b[1;32m<ipython-input-38-f2ed8dfc08f9>\u001b[0m in \u001b[0;36m<module>\u001b[1;34m\u001b[0m\n\u001b[0;32m      6\u001b[0m     \u001b[0mmethod\u001b[0m\u001b[1;33m=\u001b[0m\u001b[1;34m'welch'\u001b[0m\u001b[1;33m,\u001b[0m\u001b[1;33m\u001b[0m\u001b[1;33m\u001b[0m\u001b[0m\n\u001b[0;32m      7\u001b[0m     \u001b[0minterp_method\u001b[0m\u001b[1;33m=\u001b[0m\u001b[1;34m'cubic'\u001b[0m\u001b[1;33m,\u001b[0m\u001b[1;33m\u001b[0m\u001b[1;33m\u001b[0m\u001b[0m\n\u001b[1;32m----> 8\u001b[1;33m     \u001b[0mdetrend\u001b[0m\u001b[1;33m=\u001b[0m\u001b[1;34m'linear'\u001b[0m\u001b[1;33m\u001b[0m\u001b[1;33m\u001b[0m\u001b[0m\n\u001b[0m\u001b[0;32m      9\u001b[0m )\n",
      "\u001b[1;32mC:\\ProgramData\\Anaconda3\\lib\\site-packages\\hrv\\classical.py\u001b[0m in \u001b[0;36mfrequency_domain\u001b[1;34m(rri, time, fs, method, interp_method, vlf_band, lf_band, hf_band, **kwargs)\u001b[0m\n\u001b[0;32m     42\u001b[0m \u001b[1;33m\u001b[0m\u001b[0m\n\u001b[0;32m     43\u001b[0m     \u001b[1;32mif\u001b[0m \u001b[0minterp_method\u001b[0m \u001b[1;32mis\u001b[0m \u001b[1;32mnot\u001b[0m \u001b[1;32mNone\u001b[0m\u001b[1;33m:\u001b[0m\u001b[1;33m\u001b[0m\u001b[1;33m\u001b[0m\u001b[0m\n\u001b[1;32m---> 44\u001b[1;33m         \u001b[0mrri\u001b[0m \u001b[1;33m=\u001b[0m \u001b[0m_interpolate_rri\u001b[0m\u001b[1;33m(\u001b[0m\u001b[0mrri\u001b[0m\u001b[1;33m,\u001b[0m \u001b[0mtime\u001b[0m\u001b[1;33m,\u001b[0m \u001b[0mfs\u001b[0m\u001b[1;33m,\u001b[0m \u001b[0minterp_method\u001b[0m\u001b[1;33m)\u001b[0m\u001b[1;33m\u001b[0m\u001b[1;33m\u001b[0m\u001b[0m\n\u001b[0m\u001b[0;32m     45\u001b[0m \u001b[1;33m\u001b[0m\u001b[0m\n\u001b[0;32m     46\u001b[0m     \u001b[1;32mif\u001b[0m \u001b[0mmethod\u001b[0m \u001b[1;33m==\u001b[0m \u001b[1;34m'welch'\u001b[0m\u001b[1;33m:\u001b[0m\u001b[1;33m\u001b[0m\u001b[1;33m\u001b[0m\u001b[0m\n",
      "\u001b[1;32mC:\\ProgramData\\Anaconda3\\lib\\site-packages\\hrv\\utils.py\u001b[0m in \u001b[0;36m_interpolate_rri\u001b[1;34m(rri, time, fs, interp_method)\u001b[0m\n\u001b[0;32m     73\u001b[0m \u001b[1;32mdef\u001b[0m \u001b[0m_interpolate_rri\u001b[0m\u001b[1;33m(\u001b[0m\u001b[0mrri\u001b[0m\u001b[1;33m,\u001b[0m \u001b[0mtime\u001b[0m\u001b[1;33m,\u001b[0m \u001b[0mfs\u001b[0m\u001b[1;33m=\u001b[0m\u001b[1;36m4\u001b[0m\u001b[1;33m,\u001b[0m \u001b[0minterp_method\u001b[0m\u001b[1;33m=\u001b[0m\u001b[1;34m'cubic'\u001b[0m\u001b[1;33m)\u001b[0m\u001b[1;33m:\u001b[0m\u001b[1;33m\u001b[0m\u001b[1;33m\u001b[0m\u001b[0m\n\u001b[0;32m     74\u001b[0m     \u001b[1;32mif\u001b[0m \u001b[0minterp_method\u001b[0m \u001b[1;33m==\u001b[0m \u001b[1;34m'cubic'\u001b[0m\u001b[1;33m:\u001b[0m\u001b[1;33m\u001b[0m\u001b[1;33m\u001b[0m\u001b[0m\n\u001b[1;32m---> 75\u001b[1;33m         \u001b[1;32mreturn\u001b[0m \u001b[0m_interp_cubic_spline\u001b[0m\u001b[1;33m(\u001b[0m\u001b[0mrri\u001b[0m\u001b[1;33m,\u001b[0m \u001b[0mtime\u001b[0m\u001b[1;33m,\u001b[0m \u001b[0mfs\u001b[0m\u001b[1;33m)\u001b[0m\u001b[1;33m\u001b[0m\u001b[1;33m\u001b[0m\u001b[0m\n\u001b[0m\u001b[0;32m     76\u001b[0m     \u001b[1;32melif\u001b[0m \u001b[0minterp_method\u001b[0m \u001b[1;33m==\u001b[0m \u001b[1;34m'linear'\u001b[0m\u001b[1;33m:\u001b[0m\u001b[1;33m\u001b[0m\u001b[1;33m\u001b[0m\u001b[0m\n\u001b[0;32m     77\u001b[0m         \u001b[1;32mreturn\u001b[0m \u001b[0m_interp_linear\u001b[0m\u001b[1;33m(\u001b[0m\u001b[0mrri\u001b[0m\u001b[1;33m,\u001b[0m \u001b[0mtime\u001b[0m\u001b[1;33m,\u001b[0m \u001b[0mfs\u001b[0m\u001b[1;33m)\u001b[0m\u001b[1;33m\u001b[0m\u001b[1;33m\u001b[0m\u001b[0m\n",
      "\u001b[1;32mC:\\ProgramData\\Anaconda3\\lib\\site-packages\\hrv\\utils.py\u001b[0m in \u001b[0;36m_interp_cubic_spline\u001b[1;34m(rri, time, fs)\u001b[0m\n\u001b[0;32m     79\u001b[0m \u001b[1;33m\u001b[0m\u001b[0m\n\u001b[0;32m     80\u001b[0m \u001b[1;32mdef\u001b[0m \u001b[0m_interp_cubic_spline\u001b[0m\u001b[1;33m(\u001b[0m\u001b[0mrri\u001b[0m\u001b[1;33m,\u001b[0m \u001b[0mtime\u001b[0m\u001b[1;33m,\u001b[0m \u001b[0mfs\u001b[0m\u001b[1;33m)\u001b[0m\u001b[1;33m:\u001b[0m\u001b[1;33m\u001b[0m\u001b[1;33m\u001b[0m\u001b[0m\n\u001b[1;32m---> 81\u001b[1;33m     \u001b[0mtime_rri_interp\u001b[0m \u001b[1;33m=\u001b[0m \u001b[0m_create_interp_time\u001b[0m\u001b[1;33m(\u001b[0m\u001b[0mtime\u001b[0m\u001b[1;33m,\u001b[0m \u001b[0mfs\u001b[0m\u001b[1;33m)\u001b[0m\u001b[1;33m\u001b[0m\u001b[1;33m\u001b[0m\u001b[0m\n\u001b[0m\u001b[0;32m     82\u001b[0m     \u001b[0mtck\u001b[0m \u001b[1;33m=\u001b[0m \u001b[0minterpolate\u001b[0m\u001b[1;33m.\u001b[0m\u001b[0msplrep\u001b[0m\u001b[1;33m(\u001b[0m\u001b[0mtime\u001b[0m\u001b[1;33m,\u001b[0m \u001b[0mrri\u001b[0m\u001b[1;33m,\u001b[0m \u001b[0ms\u001b[0m\u001b[1;33m=\u001b[0m\u001b[1;36m0\u001b[0m\u001b[1;33m)\u001b[0m\u001b[1;33m\u001b[0m\u001b[1;33m\u001b[0m\u001b[0m\n\u001b[0;32m     83\u001b[0m     \u001b[0mrri_interp\u001b[0m \u001b[1;33m=\u001b[0m \u001b[0minterpolate\u001b[0m\u001b[1;33m.\u001b[0m\u001b[0msplev\u001b[0m\u001b[1;33m(\u001b[0m\u001b[0mtime_rri_interp\u001b[0m\u001b[1;33m,\u001b[0m \u001b[0mtck\u001b[0m\u001b[1;33m,\u001b[0m \u001b[0mder\u001b[0m\u001b[1;33m=\u001b[0m\u001b[1;36m0\u001b[0m\u001b[1;33m)\u001b[0m\u001b[1;33m\u001b[0m\u001b[1;33m\u001b[0m\u001b[0m\n",
      "\u001b[1;32mC:\\ProgramData\\Anaconda3\\lib\\site-packages\\hrv\\utils.py\u001b[0m in \u001b[0;36m_create_interp_time\u001b[1;34m(time, fs)\u001b[0m\n\u001b[0;32m     93\u001b[0m \u001b[1;32mdef\u001b[0m \u001b[0m_create_interp_time\u001b[0m\u001b[1;33m(\u001b[0m\u001b[0mtime\u001b[0m\u001b[1;33m,\u001b[0m \u001b[0mfs\u001b[0m\u001b[1;33m)\u001b[0m\u001b[1;33m:\u001b[0m\u001b[1;33m\u001b[0m\u001b[1;33m\u001b[0m\u001b[0m\n\u001b[0;32m     94\u001b[0m     \u001b[0mtime_resolution\u001b[0m \u001b[1;33m=\u001b[0m \u001b[1;36m1\u001b[0m \u001b[1;33m/\u001b[0m \u001b[0mfloat\u001b[0m\u001b[1;33m(\u001b[0m\u001b[0mfs\u001b[0m\u001b[1;33m)\u001b[0m\u001b[1;33m\u001b[0m\u001b[1;33m\u001b[0m\u001b[0m\n\u001b[1;32m---> 95\u001b[1;33m     \u001b[1;32mreturn\u001b[0m \u001b[0mnp\u001b[0m\u001b[1;33m.\u001b[0m\u001b[0marange\u001b[0m\u001b[1;33m(\u001b[0m\u001b[1;36m0\u001b[0m\u001b[1;33m,\u001b[0m \u001b[0mtime\u001b[0m\u001b[1;33m[\u001b[0m\u001b[1;33m-\u001b[0m\u001b[1;36m1\u001b[0m\u001b[1;33m]\u001b[0m \u001b[1;33m+\u001b[0m \u001b[0mtime_resolution\u001b[0m\u001b[1;33m,\u001b[0m \u001b[0mtime_resolution\u001b[0m\u001b[1;33m)\u001b[0m\u001b[1;33m\u001b[0m\u001b[1;33m\u001b[0m\u001b[0m\n\u001b[0m",
      "\u001b[1;31mTypeError\u001b[0m: 'NoneType' object is not subscriptable"
     ]
    }
   ],
   "source": [
    "from hrv.classical import frequency_domain\n",
    "\n",
    "results = frequency_domain(\n",
    "    rri=df.rr.values,\n",
    "    sf=4.0,\n",
    "    method='welch',\n",
    "    interp_method='cubic',\n",
    "    detrend='linear'\n",
    ")"
   ]
  },
  {
   "cell_type": "code",
   "execution_count": 44,
   "metadata": {},
   "outputs": [
    {
     "data": {
      "image/png": "[encoded data removed]",
      "text/plain": [
       "<Figure size 432x288 with 1 Axes>"
      ]
     },
     "metadata": {
      "needs_background": "light"
     },
     "output_type": "display_data"
    }
   ],
   "source": [
    "from hrv.io import read_from_text\n",
    "\n",
    "rri = read_from_text('rr.txt')\n",
    "fig, ax = rri.plot(color='k')"
   ]
  },
  {
   "cell_type": "code",
   "execution_count": 45,
   "metadata": {},
   "outputs": [
    {
     "data": {
      "text/plain": [
       "RRi array([9.92000000e+02, 1.01600000e+03, 9.85000000e+02, 3.33333333e+12,\n",
       "       1.00100000e+03, 3.33333333e+12, 9.82000000e+02, 6.66666667e+12,\n",
       "       9.09000000e+02, 3.33333333e+12, 9.05000000e+02, 3.33333333e+12,\n",
       "       9.28000000e+02, 8.66000000e+02, 6.66666667e+12, 9.04000000e+02,\n",
       "       1.00000000e+01, 9.17000000e+02, 3.33333333e+12, 1.10000000e+01,\n",
       "       9.32000000e+02, 1.20000000e+01, 9.04000000e+02, 1.30000000e+01,\n",
       "       9.86000000e+02, 6.66666667e+12, 1.40000000e+01, 1.02200000e+03,\n",
       "       6.66666667e+12, 1.50000000e+01, 9.34000000e+02, 6.66666667e+12,\n",
       "       1.60000000e+01, 9.92000000e+02, 1.70000000e+01, 1.01700000e+03,\n",
       "       3.33333333e+12, 1.80000000e+01, 9.02000000e+02, 6.66666667e+12,\n",
       "       1.90000000e+01, 9.12000000e+02, 2.00000000e+01, 9.46000000e+02,\n",
       "       6.66666667e+12, 2.10000000e+01, 9.10000000e+02, 6.66666667e+12,\n",
       "       2.20000000e+01, 8.98000000e+02, 6.66666667e+12, 2.30000000e+01,\n",
       "       9.50000000e+02, 6.66666667e+12, 2.40000000e+01, 9.41000000e+02,\n",
       "       3.33333333e+12, 2.50000000e+01, 8.66000000e+02, 6.66666667e+12,\n",
       "       2.60000000e+01, 9.29000000e+02, 3.33333333e+12, 2.70000000e+01,\n",
       "       9.90000000e+02, 6.66666667e+12, 2.80000000e+01, 9.14000000e+02,\n",
       "       6.66666667e+12, 2.90000000e+01, 9.62000000e+02, 6.66666667e+12,\n",
       "       3.00000000e+01, 9.96000000e+02, 3.10000000e+01, 8.66000000e+02,\n",
       "       6.66666667e+12, 3.20000000e+01, 8.85000000e+02, 3.33333333e+12,\n",
       "       3.30000000e+01, 8.16000000e+02, 3.40000000e+01, 7.96000000e+02,\n",
       "       3.50000000e+01, 6.98000000e+02, 6.66666667e+12, 3.60000000e+01,\n",
       "       7.12000000e+02, 3.70000000e+01, 7.25000000e+02, 3.33333333e+12,\n",
       "       3.80000000e+01, 7.48000000e+02, 3.90000000e+01, 7.77000000e+02,\n",
       "       3.33333333e+12, 4.00000000e+01, 7.92000000e+02, 4.10000000e+01,\n",
       "       8.05000000e+02, 3.33333333e+12, 4.20000000e+01, 8.20000000e+02,\n",
       "       4.30000000e+01, 8.01000000e+02, 3.33333333e+12, 4.40000000e+01,\n",
       "       7.94000000e+02, 6.66666667e+12, 4.50000000e+01, 8.08000000e+02,\n",
       "       4.60000000e+01, 8.41000000e+02, 3.33333333e+12, 4.70000000e+01,\n",
       "       8.17000000e+02, 3.33333333e+12, 4.80000000e+01, 8.42000000e+02,\n",
       "       6.66666667e+12, 4.90000000e+01, 8.82000000e+02, 6.66666667e+12,\n",
       "       5.00000000e+01, 8.82000000e+02, 6.66666667e+12, 5.10000000e+01,\n",
       "       8.50000000e+02, 6.66666667e+12, 5.20000000e+01, 8.69000000e+02,\n",
       "       3.33333333e+12, 5.30000000e+01, 9.20000000e+02, 5.40000000e+01,\n",
       "       8.97000000e+02, 3.33333333e+12, 5.50000000e+01, 9.36000000e+02,\n",
       "       5.60000000e+01, 9.65000000e+02, 3.33333333e+12, 5.70000000e+01,\n",
       "       9.18000000e+02, 6.66666667e+12, 5.80000000e+01, 9.32000000e+02,\n",
       "       5.90000000e+01, 9.48000000e+02, 6.00000000e+01, 8.77000000e+02,\n",
       "       3.33333333e+12, 6.10000000e+01, 8.72000000e+02, 6.20000000e+01,\n",
       "       8.78000000e+02, 6.66666667e+12, 6.30000000e+01, 8.49000000e+02,\n",
       "       3.33333333e+12, 6.40000000e+01, 8.60000000e+02, 6.50000000e+01,\n",
       "       9.04000000e+02, 6.60000000e+01, 8.94000000e+02, 6.66666667e+12,\n",
       "       6.70000000e+01, 8.88000000e+02, 6.80000000e+01, 8.98000000e+02,\n",
       "       6.66666667e+12, 6.90000000e+01, 8.93000000e+02, 3.33333333e+12,\n",
       "       7.00000000e+01, 8.66000000e+02, 6.66666667e+12, 7.10000000e+01,\n",
       "       8.84000000e+02, 7.20000000e+01, 8.70000000e+02, 6.66666667e+12,\n",
       "       7.30000000e+01, 8.36000000e+02, 7.40000000e+01, 8.60000000e+02,\n",
       "       7.50000000e+01, 8.66000000e+02, 6.66666667e+12, 7.60000000e+01,\n",
       "       8.58000000e+02, 6.66666667e+12, 7.70000000e+01, 8.68000000e+02,\n",
       "       7.80000000e+01, 9.00000000e+02, 7.90000000e+01, 9.08000000e+02,\n",
       "       8.00000000e+01, 8.70000000e+02, 6.66666667e+12, 8.10000000e+01,\n",
       "       8.89000000e+02, 3.33333333e+12, 8.20000000e+01, 8.88000000e+02,\n",
       "       8.30000000e+01, 8.42000000e+02, 6.66666667e+12, 8.40000000e+01,\n",
       "       8.56000000e+02, 8.50000000e+01, 8.84000000e+02, 8.60000000e+01,\n",
       "       8.76000000e+02, 8.70000000e+01, 8.52000000e+02, 8.80000000e+01,\n",
       "       8.62000000e+02, 6.66666667e+12, 8.90000000e+01, 8.73000000e+02,\n",
       "       3.33333333e+12, 9.00000000e+01, 8.41000000e+02, 3.33333333e+12,\n",
       "       9.10000000e+01, 8.58000000e+02, 6.66666667e+12, 9.20000000e+01,\n",
       "       8.60000000e+02, 9.30000000e+01, 8.28000000e+02, 9.40000000e+01,\n",
       "       8.32000000e+02, 9.50000000e+01, 8.62000000e+02, 6.66666667e+12,\n",
       "       9.60000000e+01, 7.82000000e+02, 6.66666667e+12, 9.70000000e+01,\n",
       "       7.41000000e+02, 3.33333333e+12, 9.80000000e+01, 7.13000000e+02,\n",
       "       3.33333333e+12, 9.90000000e+01, 7.72000000e+02, 1.00000000e+02,\n",
       "       7.26000000e+02, 6.66666667e+12, 1.01000000e+02, 7.28000000e+02,\n",
       "       1.02000000e+02, 7.60000000e+02, 1.03000000e+02, 8.02000000e+02,\n",
       "       6.66666667e+12, 1.04000000e+02, 8.18000000e+02, 6.66666667e+12,\n",
       "       1.05000000e+02, 7.72000000e+02, 1.06000000e+02, 7.81000000e+02,\n",
       "       3.33333333e+12, 1.07000000e+02, 7.89000000e+02, 3.33333333e+12,\n",
       "       1.08000000e+02, 7.76000000e+02, 1.09000000e+02, 7.49000000e+02,\n",
       "       3.33333333e+12, 1.10000000e+02, 7.57000000e+02, 3.33333333e+12,\n",
       "       1.11000000e+02, 7.64000000e+02, 1.12000000e+02, 7.34000000e+02,\n",
       "       6.66666667e+12, 1.13000000e+02, 7.44000000e+02, 1.14000000e+02,\n",
       "       7.68000000e+02, 1.15000000e+02, 8.30000000e+02, 6.66666667e+12,\n",
       "       1.16000000e+02, 8.76000000e+02, 1.17000000e+02, 9.58000000e+02,\n",
       "       6.66666667e+12, 1.18000000e+02, 9.72000000e+02, 1.19000000e+02,\n",
       "       9.36000000e+02, 1.20000000e+02, 1.02400000e+03, 1.21000000e+02,\n",
       "       1.09200000e+03, 1.22000000e+02, 9.96000000e+02, 1.23000000e+02,\n",
       "       1.04500000e+03, 3.33333333e+12, 1.24000000e+02, 9.93000000e+02,\n",
       "       3.33333333e+12, 1.25000000e+02, 8.60000000e+02, 1.26000000e+02,\n",
       "       8.88000000e+02, 1.27000000e+02, 8.81000000e+02, 3.33333333e+12,\n",
       "       1.28000000e+02, 8.54000000e+02, 6.66666667e+12, 1.29000000e+02,\n",
       "       8.22000000e+02, 6.66666667e+12, 1.30000000e+02, 9.32000000e+02,\n",
       "       1.31000000e+02, 9.50000000e+02, 6.66666667e+12, 1.32000000e+02,\n",
       "       9.13000000e+02, 3.33333333e+12, 1.33000000e+02, 8.80000000e+02,\n",
       "       1.34000000e+02, 9.17000000e+02, 3.33333333e+12, 1.35000000e+02,\n",
       "       9.44000000e+02, 1.36000000e+02, 8.93000000e+02, 3.33333333e+12,\n",
       "       1.37000000e+02, 8.98000000e+02, 6.66666667e+12, 1.38000000e+02,\n",
       "       9.38000000e+02, 6.66666667e+12, 1.39000000e+02, 8.86000000e+02,\n",
       "       6.66666667e+12, 1.40000000e+02, 8.38000000e+02, 6.66666667e+12,\n",
       "       1.41000000e+02, 8.08000000e+02, 1.42000000e+02, 7.86000000e+02,\n",
       "       6.66666667e+12, 1.43000000e+02, 7.41000000e+02, 3.33333333e+12,\n",
       "       1.44000000e+02, 7.61000000e+02, 3.33333333e+12, 1.45000000e+02,\n",
       "       8.21000000e+02, 3.33333333e+12, 1.46000000e+02, 9.25000000e+02,\n",
       "       3.33333333e+12, 1.47000000e+02, 8.74000000e+02, 6.66666667e+12,\n",
       "       1.48000000e+02, 9.08000000e+02, 1.49000000e+02, 9.66000000e+02,\n",
       "       6.66666667e+12, 1.50000000e+02, 9.36000000e+02, 1.51000000e+02,\n",
       "       9.48000000e+02, 1.52000000e+02, 1.00500000e+03, 3.33333333e+12,\n",
       "       1.53000000e+02, 9.37000000e+02, 3.33333333e+12, 1.54000000e+02,\n",
       "       8.80000000e+02, 1.55000000e+02, 9.12000000e+02, 1.56000000e+02,\n",
       "       9.29000000e+02, 3.33333333e+12, 1.57000000e+02, 9.09000000e+02,\n",
       "       3.33333333e+12, 1.58000000e+02, 9.42000000e+02, 6.66666667e+12,\n",
       "       1.59000000e+02, 9.92000000e+02, 1.60000000e+02, 9.82000000e+02,\n",
       "       6.66666667e+12, 1.61000000e+02, 9.64000000e+02, 1.62000000e+02,\n",
       "       9.92000000e+02, 1.63000000e+02, 9.62000000e+02, 6.66666667e+12,\n",
       "       1.64000000e+02, 9.02000000e+02, 6.66666667e+12, 1.65000000e+02,\n",
       "       9.41000000e+02, 3.33333333e+12, 1.66000000e+02, 9.78000000e+02,\n",
       "       6.66666667e+12, 1.67000000e+02, 8.98000000e+02, 6.66666667e+12,\n",
       "       1.68000000e+02, 9.04000000e+02, 1.69000000e+02, 8.64000000e+02,\n",
       "       1.70000000e+02, 8.54000000e+02, 6.66666667e+12, 1.71000000e+02,\n",
       "       7.92000000e+02, 1.72000000e+02, 7.88000000e+02, 1.73000000e+02,\n",
       "       7.37000000e+02, 3.33333333e+12, 1.74000000e+02, 7.80000000e+02,\n",
       "       1.75000000e+02, 7.81000000e+02, 3.33333333e+12, 1.76000000e+02,\n",
       "       8.06000000e+02, 6.66666667e+12, 1.77000000e+02, 7.24000000e+02,\n",
       "       1.78000000e+02, 7.32000000e+02, 1.79000000e+02, 6.86000000e+02,\n",
       "       6.66666667e+12, 1.80000000e+02, 7.00000000e+02, 1.81000000e+02,\n",
       "       6.76000000e+02, 1.82000000e+02, 6.82000000e+02, 6.66666667e+12,\n",
       "       1.83000000e+02, 6.97000000e+02, 3.33333333e+12, 1.84000000e+02,\n",
       "       7.48000000e+02, 1.85000000e+02, 8.33000000e+02, 3.33333333e+12,\n",
       "       1.86000000e+02, 9.25000000e+02, 3.33333333e+12, 1.87000000e+02,\n",
       "       9.72000000e+02, 1.88000000e+02, 1.05200000e+03, 1.89000000e+02,\n",
       "       1.09400000e+03, 6.66666667e+12, 1.90000000e+02, 1.11700000e+03,\n",
       "       3.33333333e+12, 1.91000000e+02, 1.06000000e+03, 1.92000000e+02,\n",
       "       1.05200000e+03, 1.93000000e+02, 1.05000000e+03, 6.66666667e+12,\n",
       "       1.94000000e+02, 9.30000000e+02, 6.66666667e+12, 1.95000000e+02,\n",
       "       8.88000000e+02, 1.96000000e+02, 9.02000000e+02, 6.66666667e+12,\n",
       "       1.97000000e+02, 8.22000000e+02, 6.66666667e+12, 1.98000000e+02,\n",
       "       7.82000000e+02, 6.66666667e+12, 1.99000000e+02, 8.08000000e+02,\n",
       "       2.00000000e+02, 8.57000000e+02, 3.33333333e+12, 2.01000000e+02,\n",
       "       9.20000000e+02, 2.02000000e+02, 8.85000000e+02, 3.33333333e+12,\n",
       "       2.03000000e+02, 9.57000000e+02, 3.33333333e+12, 2.04000000e+02,\n",
       "       9.28000000e+02, 2.05000000e+02, 8.58000000e+02, 6.66666667e+12,\n",
       "       2.06000000e+02, 8.64000000e+02, 2.07000000e+02, 8.81000000e+02,\n",
       "       3.33333333e+12, 2.08000000e+02, 9.22000000e+02, 6.66666667e+12,\n",
       "       2.09000000e+02, 8.33000000e+02, 3.33333333e+12, 2.10000000e+02,\n",
       "       8.44000000e+02, 2.11000000e+02, 8.09000000e+02, 3.33333333e+12,\n",
       "       2.12000000e+02, 8.61000000e+02, 3.33333333e+12, 2.13000000e+02,\n",
       "       9.42000000e+02, 6.66666667e+12, 2.14000000e+02, 9.36000000e+02,\n",
       "       2.15000000e+02, 8.60000000e+02, 2.16000000e+02, 8.94000000e+02,\n",
       "       6.66666667e+12, 2.17000000e+02, 9.04000000e+02, 2.18000000e+02,\n",
       "       8.42000000e+02, 6.66666667e+12, 2.19000000e+02, 8.29000000e+02,\n",
       "       3.33333333e+12, 2.20000000e+02, 8.74000000e+02, 6.66666667e+12,\n",
       "       2.21000000e+02, 9.69000000e+02, 3.33333333e+12, 2.22000000e+02,\n",
       "       9.80000000e+02, 2.23000000e+02, 1.03600000e+03, 2.24000000e+02,\n",
       "       1.04800000e+03, 2.25000000e+02, 9.53000000e+02, 3.33333333e+12,\n",
       "       2.26000000e+02, 9.17000000e+02, 3.33333333e+12, 2.27000000e+02,\n",
       "       9.45000000e+02, 3.33333333e+12, 2.28000000e+02, 9.66000000e+02,\n",
       "       6.66666667e+12, 2.29000000e+02, 8.62000000e+02, 6.66666667e+12,\n",
       "       2.30000000e+02, 9.10000000e+02, 6.66666667e+12, 2.31000000e+02,\n",
       "       9.22000000e+02, 6.66666667e+12, 2.32000000e+02, 9.20000000e+02,\n",
       "       2.33000000e+02, 9.18000000e+02, 6.66666667e+12, 2.34000000e+02,\n",
       "       9.81000000e+02, 3.33333333e+12, 2.35000000e+02, 1.00800000e+03,\n",
       "       2.36000000e+02, 9.53000000e+02, 3.33333333e+12, 2.37000000e+02,\n",
       "       9.72000000e+02, 2.38000000e+02, 9.70000000e+02, 6.66666667e+12,\n",
       "       2.39000000e+02, 8.73000000e+02, 3.33333333e+12, 2.40000000e+02,\n",
       "       8.86000000e+02, 6.66666667e+12, 2.41000000e+02, 9.26000000e+02,\n",
       "       6.66666667e+12, 2.42000000e+02, 8.62000000e+02, 6.66666667e+12,\n",
       "       2.43000000e+02, 8.53000000e+02, 3.33333333e+12, 2.44000000e+02,\n",
       "       9.05000000e+02, 3.33333333e+12])"
      ]
     },
     "execution_count": 45,
     "metadata": {},
     "output_type": "execute_result"
    }
   ],
   "source": [
    "rri"
   ]
  },
  {
   "cell_type": "code",
   "execution_count": null,
   "metadata": {},
   "outputs": [],
   "source": []
  }
 ],
 "metadata": {
  "kernelspec": {
   "display_name": "Python 3",
   "language": "python",
   "name": "python3"
  },
  "language_info": {
   "codemirror_mode": {
    "name": "ipython",
    "version": 3
   },
   "file_extension": ".py",
   "mimetype": "text/x-python",
   "name": "python",
   "nbconvert_exporter": "python",
   "pygments_lexer": "ipython3",
   "version": "3.7.3"
  }
 },
 "nbformat": 4,
 "nbformat_minor": 4
}
