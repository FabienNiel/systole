{
 "cells": [
  {
   "cell_type": "markdown",
   "metadata": {},
   "source": [
    "Author: Nicolas Legrand <nicolas.legrand@cfin.au.dk>"
   ]
  },
  {
   "cell_type": "markdown",
   "metadata": {},
   "source": [
    "# Heartbeat evoked tone"
   ]
  },
  {
   "cell_type": "markdown",
   "metadata": {},
   "source": [
    "This tutorial illustrates how to use the `Oximeter` class to triggers stimuli at different cardiac cycles using [Psychopy](https://www.psychopy.org/).\n",
    "\n",
    "The PPG signal is recorded for 10 seconds and peaks are detected online. Four notes ('C', 'E', 'G', 'Bfl') are played at peak detection, peaks + 1/4, 2/4 or 3/4 of the previous cardiac cycle length. While R-R intervals are prone to large changes in the long term, such changes are physiologically limited for heartbeat, thus limiting the variability of phase in which the note is played."
   ]
  },
  {
   "cell_type": "code",
   "execution_count": 1,
   "metadata": {},
   "outputs": [],
   "source": [
    "import serial\n",
    "import time\n",
    "import numpy as np\n",
    "from psychopy.sound import Sound\n",
    "import matplotlib.pyplot as plt\n",
    "from systole.recording import Oximeter\n",
    "from systole.circular import to_angles, circular, plot_circular\n",
    "\n",
    "# Open serial port\n",
    "ser = serial.Serial('COM4')  # Change this value according to your setup\n",
    "\n",
    "# Create an Oxymeter instance and initialize recording\n",
    "oxi = Oximeter(serial=ser, sfreq=75, add_channels=4).setup()"
   ]
  },
  {
   "cell_type": "code",
   "execution_count": null,
   "metadata": {},
   "outputs": [],
   "source": [
    "systole = Sound('C', secs=0.1)\n",
    "diastole1 = Sound('E', secs=0.1)\n",
    "diastole2 = Sound('G', secs=0.1)\n",
    "diastole3 = Sound('Bfl', secs=0.1)\n",
    "\n",
    "systoleTime1, systoleTime2, systoleTime3 = None, None, None\n",
    "tstart = time.time()\n",
    "while time.time() - tstart < 10:\n",
    "\n",
    "  # Check if there are new data to read\n",
    "  while oxi.serial.inWaiting() >= 5:\n",
    "\n",
    "      # Convert bytes into list of int\n",
    "      paquet = list(oxi.serial.read(5))\n",
    "      if oxi.check(paquet):  # Data consistency\n",
    "          oxi.add_paquet(paquet[2])  # Add new data point\n",
    "\n",
    "      # T + 0\n",
    "      if oxi.peaks[-1] == 1:\n",
    "            \n",
    "            systole = Sound('C', secs=0.1)\n",
    "            systole.play()\n",
    "            systoleTime1 = time.time()\n",
    "            systoleTime2 = time.time()\n",
    "            systoleTime3 = time.time()\n",
    "\n",
    "      # T + 1/4\n",
    "      if systoleTime1 is not None:\n",
    "            if time.time() - systoleTime1 >= ((oxi.instant_rr[-1]/4)/1000):\n",
    "                diastole1 = Sound('E', secs=0.1)\n",
    "                diastole1.play()\n",
    "                systoleTime1 = None\n",
    "\n",
    "      # T + 2/4\n",
    "      if systoleTime2 is not None:\n",
    "            if time.time() - systoleTime2 >= (((oxi.instant_rr[-1]/4) * 2)/1000):\n",
    "                diastole2 = Sound('G', secs=0.1)\n",
    "                diastole2.play()\n",
    "                systoleTime2 = None\n",
    "\n",
    "      # T + 3/4\n",
    "      if systoleTime3 is not None:\n",
    "            if time.time() - systoleTime3 >= (((oxi.instant_rr[-1]/4) * 3)/1000):\n",
    "                diastole3 = Sound('A', secs=0.1)\n",
    "                diastole3.play()\n",
    "                systoleTime3 = None\n",
    "\n",
    "# Track the note status\n",
    "oxi.channels['Channel_0'][-1] = systole.status\n",
    "oxi.channels['Channel_1'][-1] = diastole1.status\n",
    "oxi.channels['Channel_2'][-1] = diastole2.status\n",
    "oxi.channels['Channel_3'][-1] = diastole3.status"
   ]
  }
 ],
 "metadata": {
  "kernelspec": {
   "display_name": "Python 3",
   "language": "python",
   "name": "python3"
  },
  "language_info": {
   "codemirror_mode": {
    "name": "ipython",
    "version": 3
   },
   "file_extension": ".py",
   "mimetype": "text/x-python",
   "name": "python",
   "nbconvert_exporter": "python",
   "pygments_lexer": "ipython3",
   "version": "3.7.3"
  }
 },
 "nbformat": 4,
 "nbformat_minor": 4
}
